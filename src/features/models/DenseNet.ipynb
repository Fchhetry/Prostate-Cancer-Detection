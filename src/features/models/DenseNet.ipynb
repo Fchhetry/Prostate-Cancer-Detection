{
  "nbformat": 4,
  "nbformat_minor": 0,
  "metadata": {
    "colab": {
      "provenance": [],
      "gpuType": "T4"
    },
    "kernelspec": {
      "name": "python3",
      "display_name": "Python 3"
    },
    "language_info": {
      "name": "python"
    },
    "accelerator": "GPU"
  },
  "cells": [
    {
      "cell_type": "code",
      "execution_count": null,
      "metadata": {
        "id": "4qVvTyhRIpHN",
        "colab": {
          "base_uri": "https://localhost:8080/"
        },
        "outputId": "0f781183-06a2-441c-8b5e-e053153a0e97"
      },
      "outputs": [
        {
          "output_type": "stream",
          "name": "stdout",
          "text": [
            "Drive already mounted at /content/drive; to attempt to forcibly remount, call drive.mount(\"/content/drive\", force_remount=True).\n",
            "Requirement already satisfied: monai==1.3.0 in /usr/local/lib/python3.11/dist-packages (1.3.0)\n",
            "Requirement already satisfied: nibabel in /usr/local/lib/python3.11/dist-packages (5.3.2)\n",
            "Requirement already satisfied: SimpleITK in /usr/local/lib/python3.11/dist-packages (2.5.0)\n",
            "Requirement already satisfied: scikit-learn in /usr/local/lib/python3.11/dist-packages (1.6.1)\n",
            "Requirement already satisfied: pandas in /usr/local/lib/python3.11/dist-packages (2.2.2)\n",
            "Requirement already satisfied: matplotlib in /usr/local/lib/python3.11/dist-packages (3.10.0)\n",
            "Requirement already satisfied: numpy>=1.20 in /usr/local/lib/python3.11/dist-packages (from monai==1.3.0) (2.0.2)\n",
            "Requirement already satisfied: torch>=1.9 in /usr/local/lib/python3.11/dist-packages (from monai==1.3.0) (2.6.0+cu124)\n",
            "Requirement already satisfied: importlib-resources>=5.12 in /usr/local/lib/python3.11/dist-packages (from nibabel) (6.5.2)\n",
            "Requirement already satisfied: packaging>=20 in /usr/local/lib/python3.11/dist-packages (from nibabel) (24.2)\n",
            "Requirement already satisfied: typing-extensions>=4.6 in /usr/local/lib/python3.11/dist-packages (from nibabel) (4.13.2)\n",
            "Requirement already satisfied: scipy>=1.6.0 in /usr/local/lib/python3.11/dist-packages (from scikit-learn) (1.15.2)\n",
            "Requirement already satisfied: joblib>=1.2.0 in /usr/local/lib/python3.11/dist-packages (from scikit-learn) (1.4.2)\n",
            "Requirement already satisfied: threadpoolctl>=3.1.0 in /usr/local/lib/python3.11/dist-packages (from scikit-learn) (3.6.0)\n",
            "Requirement already satisfied: python-dateutil>=2.8.2 in /usr/local/lib/python3.11/dist-packages (from pandas) (2.9.0.post0)\n",
            "Requirement already satisfied: pytz>=2020.1 in /usr/local/lib/python3.11/dist-packages (from pandas) (2025.2)\n",
            "Requirement already satisfied: tzdata>=2022.7 in /usr/local/lib/python3.11/dist-packages (from pandas) (2025.2)\n",
            "Requirement already satisfied: contourpy>=1.0.1 in /usr/local/lib/python3.11/dist-packages (from matplotlib) (1.3.2)\n",
            "Requirement already satisfied: cycler>=0.10 in /usr/local/lib/python3.11/dist-packages (from matplotlib) (0.12.1)\n",
            "Requirement already satisfied: fonttools>=4.22.0 in /usr/local/lib/python3.11/dist-packages (from matplotlib) (4.57.0)\n",
            "Requirement already satisfied: kiwisolver>=1.3.1 in /usr/local/lib/python3.11/dist-packages (from matplotlib) (1.4.8)\n",
            "Requirement already satisfied: pillow>=8 in /usr/local/lib/python3.11/dist-packages (from matplotlib) (11.2.1)\n",
            "Requirement already satisfied: pyparsing>=2.3.1 in /usr/local/lib/python3.11/dist-packages (from matplotlib) (3.2.3)\n",
            "Requirement already satisfied: six>=1.5 in /usr/local/lib/python3.11/dist-packages (from python-dateutil>=2.8.2->pandas) (1.17.0)\n",
            "Requirement already satisfied: filelock in /usr/local/lib/python3.11/dist-packages (from torch>=1.9->monai==1.3.0) (3.18.0)\n",
            "Requirement already satisfied: networkx in /usr/local/lib/python3.11/dist-packages (from torch>=1.9->monai==1.3.0) (3.4.2)\n",
            "Requirement already satisfied: jinja2 in /usr/local/lib/python3.11/dist-packages (from torch>=1.9->monai==1.3.0) (3.1.6)\n",
            "Requirement already satisfied: fsspec in /usr/local/lib/python3.11/dist-packages (from torch>=1.9->monai==1.3.0) (2025.3.2)\n",
            "Requirement already satisfied: nvidia-cuda-nvrtc-cu12==12.4.127 in /usr/local/lib/python3.11/dist-packages (from torch>=1.9->monai==1.3.0) (12.4.127)\n",
            "Requirement already satisfied: nvidia-cuda-runtime-cu12==12.4.127 in /usr/local/lib/python3.11/dist-packages (from torch>=1.9->monai==1.3.0) (12.4.127)\n",
            "Requirement already satisfied: nvidia-cuda-cupti-cu12==12.4.127 in /usr/local/lib/python3.11/dist-packages (from torch>=1.9->monai==1.3.0) (12.4.127)\n",
            "Requirement already satisfied: nvidia-cudnn-cu12==9.1.0.70 in /usr/local/lib/python3.11/dist-packages (from torch>=1.9->monai==1.3.0) (9.1.0.70)\n",
            "Requirement already satisfied: nvidia-cublas-cu12==12.4.5.8 in /usr/local/lib/python3.11/dist-packages (from torch>=1.9->monai==1.3.0) (12.4.5.8)\n",
            "Requirement already satisfied: nvidia-cufft-cu12==11.2.1.3 in /usr/local/lib/python3.11/dist-packages (from torch>=1.9->monai==1.3.0) (11.2.1.3)\n",
            "Requirement already satisfied: nvidia-curand-cu12==10.3.5.147 in /usr/local/lib/python3.11/dist-packages (from torch>=1.9->monai==1.3.0) (10.3.5.147)\n",
            "Requirement already satisfied: nvidia-cusolver-cu12==11.6.1.9 in /usr/local/lib/python3.11/dist-packages (from torch>=1.9->monai==1.3.0) (11.6.1.9)\n",
            "Requirement already satisfied: nvidia-cusparse-cu12==12.3.1.170 in /usr/local/lib/python3.11/dist-packages (from torch>=1.9->monai==1.3.0) (12.3.1.170)\n",
            "Requirement already satisfied: nvidia-cusparselt-cu12==0.6.2 in /usr/local/lib/python3.11/dist-packages (from torch>=1.9->monai==1.3.0) (0.6.2)\n",
            "Requirement already satisfied: nvidia-nccl-cu12==2.21.5 in /usr/local/lib/python3.11/dist-packages (from torch>=1.9->monai==1.3.0) (2.21.5)\n",
            "Requirement already satisfied: nvidia-nvtx-cu12==12.4.127 in /usr/local/lib/python3.11/dist-packages (from torch>=1.9->monai==1.3.0) (12.4.127)\n",
            "Requirement already satisfied: nvidia-nvjitlink-cu12==12.4.127 in /usr/local/lib/python3.11/dist-packages (from torch>=1.9->monai==1.3.0) (12.4.127)\n",
            "Requirement already satisfied: triton==3.2.0 in /usr/local/lib/python3.11/dist-packages (from torch>=1.9->monai==1.3.0) (3.2.0)\n",
            "Requirement already satisfied: sympy==1.13.1 in /usr/local/lib/python3.11/dist-packages (from torch>=1.9->monai==1.3.0) (1.13.1)\n",
            "Requirement already satisfied: mpmath<1.4,>=1.1.0 in /usr/local/lib/python3.11/dist-packages (from sympy==1.13.1->torch>=1.9->monai==1.3.0) (1.3.0)\n",
            "Requirement already satisfied: MarkupSafe>=2.0 in /usr/local/lib/python3.11/dist-packages (from jinja2->torch>=1.9->monai==1.3.0) (3.0.2)\n",
            "Requirement already satisfied: itk in /usr/local/lib/python3.11/dist-packages (5.4.3)\n",
            "Requirement already satisfied: itk-core==5.4.3 in /usr/local/lib/python3.11/dist-packages (from itk) (5.4.3)\n",
            "Requirement already satisfied: itk-numerics==5.4.3 in /usr/local/lib/python3.11/dist-packages (from itk) (5.4.3)\n",
            "Requirement already satisfied: itk-io==5.4.3 in /usr/local/lib/python3.11/dist-packages (from itk) (5.4.3)\n",
            "Requirement already satisfied: itk-filtering==5.4.3 in /usr/local/lib/python3.11/dist-packages (from itk) (5.4.3)\n",
            "Requirement already satisfied: itk-registration==5.4.3 in /usr/local/lib/python3.11/dist-packages (from itk) (5.4.3)\n",
            "Requirement already satisfied: itk-segmentation==5.4.3 in /usr/local/lib/python3.11/dist-packages (from itk) (5.4.3)\n",
            "Requirement already satisfied: numpy in /usr/local/lib/python3.11/dist-packages (from itk) (2.0.2)\n"
          ]
        }
      ],
      "source": [
        "from google.colab import drive\n",
        "drive.mount('/content/drive')\n",
        "\n",
        "!pip install monai==1.3.0 nibabel SimpleITK scikit-learn pandas matplotlib\n",
        "!pip install itk\n",
        "!pip install -q monai[itk] SimpleITK itk"
      ]
    },
    {
      "cell_type": "code",
      "source": [
        "import os\n",
        "import pandas as pd\n",
        "import numpy as np\n",
        "import SimpleITK as sitk\n",
        "from sklearn.model_selection import train_test_split\n",
        "import itk\n",
        "print(itk.Version.GetITKVersion())\n",
        "from monai.transforms import Compose, LoadImage, EnsureChannelFirst, ScaleIntensity, Resize, ToTensor\n",
        "from monai.data import ITKReader\n",
        "from torch.utils.data import Dataset, DataLoader\n",
        "import torch\n",
        "import torch.nn as nn\n",
        "import torch.optim as optim\n",
        "from monai.networks.nets import DenseNet121\n",
        "from sklearn.metrics import roc_auc_score, accuracy_score, confusion_matrix, ConfusionMatrixDisplay\n",
        "import matplotlib.pyplot as plt\n",
        "from tqdm import tqdm\n",
        "\n",
        "# Correct paths\n",
        "project_root = \"/content/drive/MyDrive/prostate_project\"\n",
        "images_dir = os.path.join(project_root, \"mri_images\")\n",
        "clinical_data_path = os.path.join(project_root, \"marksheet.csv\")\n",
        "labels_dir = os.path.join(project_root, \"picai_labels-main\")\n",
        "\n",
        "# Load clinical data\n",
        "clinical_df = pd.read_csv(clinical_data_path)\n",
        "# Convert 'case_csPCa' from 'YES'/'NO' to 1.0/0.0\n",
        "clinical_df['case_csPCa'] = clinical_df['case_csPCa'].map({'YES': 1.0, 'NO': 0.0})\n",
        "\n",
        "data_list = []\n",
        "\n",
        "for idx, row in clinical_df.iterrows():\n",
        "    patient_id = row[\"patient_id\"]\n",
        "    t2w_path = [os.path.join(folder, f) for f in all_files if \"t2w\" in f.lower()][0]\n",
        "    hbv_path = [os.path.join(folder, f) for f in all_files if \"hbv\" in f.lower()][0]\n",
        "    adc_path = [os.path.join(folder, f) for f in all_files if \"adc\" in f.lower()][0]\n",
        "\n",
        "    label = row[\"case_csPCa\"]\n",
        "\n",
        "    if not (os.path.exists(t2w_path) and os.path.exists(hbv_path) and os.path.exists(adc_path)):\n",
        "        continue\n",
        "\n",
        "    data_list.append({\n",
        "        \"t2w\": t2w_path,\n",
        "        \"hbv\": hbv_path,\n",
        "        \"adc\": adc_path,\n",
        "        \"label\": label\n",
        "    })\n",
        "\n",
        "print(f\"Total usable cases: {len(data_list)}\")\n",
        "\n",
        "\n",
        "print(f\"Total usable cases: {len(data_list)}\")\n",
        "\n",
        "# 80-20 train-test split\n",
        "train_data, test_data = train_test_split(data_list, test_size=0.2, random_state=42, stratify=[d[\"label\"] for d in data_list])\n",
        "print(f\"Train cases: {len(train_data)} | Test cases: {len(test_data)}\")\n"
      ],
      "metadata": {
        "id": "GZsOFZX0KyWy",
        "colab": {
          "base_uri": "https://localhost:8080/"
        },
        "outputId": "e945a7a8-43a8-424b-ecdb-98c9e65a93a5"
      },
      "execution_count": null,
      "outputs": [
        {
          "output_type": "stream",
          "name": "stdout",
          "text": [
            "5.4.3\n",
            "Total usable cases: 1500\n",
            "Total usable cases: 1500\n",
            "Train cases: 1200 | Test cases: 300\n"
          ]
        }
      ]
    },
    {
      "cell_type": "code",
      "source": [
        "class ProstateDataset(Dataset):\n",
        "    def __init__(self, data, transforms):\n",
        "        self.data = data\n",
        "        self.transforms = transforms\n",
        "\n",
        "    def __len__(self):\n",
        "        return len(self.data)\n",
        "\n",
        "    def __getitem__(self, idx):\n",
        "        item = self.data[idx]\n",
        "        t2w = self.transforms(item[\"t2w\"])\n",
        "        hbv = self.transforms(item[\"hbv\"])\n",
        "        adc = self.transforms(item[\"adc\"])\n",
        "\n",
        "        image = torch.cat([t2w, hbv, adc], dim=0)\n",
        "        label = torch.tensor(item[\"label\"], dtype=torch.float32)\n",
        "\n",
        "        return image, label\n",
        "\n",
        "\n",
        "\n",
        "\n",
        "# Transform\n",
        "transforms = Compose([\n",
        "    LoadImage(image_only=True, reader=ITKReader()),\n",
        "    EnsureChannelFirst(),\n",
        "    ScaleIntensity(),\n",
        "    Resize((128, 128, 32)),\n",
        "    ToTensor()\n",
        "])\n",
        "\n",
        "\n",
        "# DataLoaders\n",
        "train_dataset = ProstateDataset(train_data, transforms)\n",
        "test_dataset = ProstateDataset(test_data, transforms)\n",
        "\n",
        "train_loader = DataLoader(train_dataset, batch_size=2, shuffle=True)\n",
        "test_loader = DataLoader(test_dataset, batch_size=2)\n"
      ],
      "metadata": {
        "id": "VDyFOCBcK74D"
      },
      "execution_count": null,
      "outputs": []
    },
    {
      "cell_type": "code",
      "source": [
        "device = torch.device(\"cuda\" if torch.cuda.is_available() else \"cpu\")\n",
        "\n",
        "model = DenseNet121(spatial_dims=3, in_channels=3, out_channels=1).to(device)\n",
        "\n",
        "criterion = nn.BCEWithLogitsLoss()\n",
        "optimizer = optim.Adam(model.parameters(), lr=1e-4)\n"
      ],
      "metadata": {
        "id": "yjveujyOK-tl"
      },
      "execution_count": null,
      "outputs": []
    },
    {
      "cell_type": "code",
      "source": [
        "img_path = \"/content/drive/MyDrive/prostate_project/mri_images/11152/11152_1001175_t2w.mha\"\n",
        "img = transforms(img_path)\n",
        "print(img.shape)\n"
      ],
      "metadata": {
        "colab": {
          "base_uri": "https://localhost:8080/"
        },
        "id": "opSud00BS-oD",
        "outputId": "df99d485-bd0a-43d4-b35c-06f3e2818304"
      },
      "execution_count": null,
      "outputs": [
        {
          "output_type": "stream",
          "name": "stdout",
          "text": [
            "torch.Size([1, 128, 128, 32])\n"
          ]
        }
      ]
    },
    {
      "cell_type": "code",
      "source": [
        "model_dir = os.path.join(project_root, \"models\")\n",
        "os.makedirs(model_dir, exist_ok=True)\n",
        "\n",
        "n_epochs = 10\n",
        "\n",
        "for epoch in range(n_epochs):\n",
        "    model.train()\n",
        "    train_loss = 0\n",
        "    for images, labels in tqdm(train_loader):\n",
        "        images, labels = images.to(device), labels.to(device)\n",
        "        optimizer.zero_grad()\n",
        "        outputs = model(images).squeeze()\n",
        "        loss = criterion(outputs, labels)\n",
        "        loss.backward()\n",
        "        optimizer.step()\n",
        "        train_loss += loss.item()\n",
        "\n",
        "    avg_loss = train_loss / len(train_loader)\n",
        "    print(f\"Epoch {epoch+1}/{n_epochs}, Loss: {avg_loss:.4f}\")\n",
        "\n",
        "    # Save model every 2 epochs\n",
        "    if (epoch + 1) % 2 == 0:\n",
        "        model_path = os.path.join(model_dir, f\"model_epoch_{epoch+1}.pth\")\n",
        "        torch.save(model.state_dict(), model_path)\n",
        "        print(f\"Saved model to {model_path}\")\n"
      ],
      "metadata": {
        "id": "Mo4LxfunLBjy",
        "colab": {
          "base_uri": "https://localhost:8080/"
        },
        "outputId": "3b3534ae-f585-4de2-9597-d9addb79723d"
      },
      "execution_count": null,
      "outputs": [
        {
          "output_type": "stream",
          "name": "stderr",
          "text": [
            "100%|██████████| 600/600 [06:47<00:00,  1.47it/s]\n"
          ]
        },
        {
          "output_type": "stream",
          "name": "stdout",
          "text": [
            "Epoch 1/10, Loss: 0.6067\n"
          ]
        },
        {
          "output_type": "stream",
          "name": "stderr",
          "text": [
            "100%|██████████| 600/600 [06:44<00:00,  1.48it/s]\n"
          ]
        },
        {
          "output_type": "stream",
          "name": "stdout",
          "text": [
            "Epoch 2/10, Loss: 0.6044\n",
            "✅ Saved model to /content/drive/MyDrive/prostate_project/models/model_epoch_2.pth\n"
          ]
        },
        {
          "output_type": "stream",
          "name": "stderr",
          "text": [
            "100%|██████████| 600/600 [06:48<00:00,  1.47it/s]\n"
          ]
        },
        {
          "output_type": "stream",
          "name": "stdout",
          "text": [
            "Epoch 3/10, Loss: 0.6068\n"
          ]
        },
        {
          "output_type": "stream",
          "name": "stderr",
          "text": [
            "100%|██████████| 600/600 [06:51<00:00,  1.46it/s]\n"
          ]
        },
        {
          "output_type": "stream",
          "name": "stdout",
          "text": [
            "Epoch 4/10, Loss: 0.6039\n",
            "✅ Saved model to /content/drive/MyDrive/prostate_project/models/model_epoch_4.pth\n"
          ]
        },
        {
          "output_type": "stream",
          "name": "stderr",
          "text": [
            "100%|██████████| 600/600 [06:45<00:00,  1.48it/s]\n"
          ]
        },
        {
          "output_type": "stream",
          "name": "stdout",
          "text": [
            "Epoch 5/10, Loss: 0.6034\n"
          ]
        },
        {
          "output_type": "stream",
          "name": "stderr",
          "text": [
            "100%|██████████| 600/600 [06:57<00:00,  1.44it/s]\n"
          ]
        },
        {
          "output_type": "stream",
          "name": "stdout",
          "text": [
            "Epoch 6/10, Loss: 0.6007\n",
            "✅ Saved model to /content/drive/MyDrive/prostate_project/models/model_epoch_6.pth\n"
          ]
        },
        {
          "output_type": "stream",
          "name": "stderr",
          "text": [
            "100%|██████████| 600/600 [06:52<00:00,  1.45it/s]\n"
          ]
        },
        {
          "output_type": "stream",
          "name": "stdout",
          "text": [
            "Epoch 7/10, Loss: 0.5985\n"
          ]
        },
        {
          "output_type": "stream",
          "name": "stderr",
          "text": [
            "100%|██████████| 600/600 [06:45<00:00,  1.48it/s]\n"
          ]
        },
        {
          "output_type": "stream",
          "name": "stdout",
          "text": [
            "Epoch 8/10, Loss: 0.6041\n",
            "✅ Saved model to /content/drive/MyDrive/prostate_project/models/model_epoch_8.pth\n"
          ]
        },
        {
          "output_type": "stream",
          "name": "stderr",
          "text": [
            "100%|██████████| 600/600 [06:48<00:00,  1.47it/s]\n"
          ]
        },
        {
          "output_type": "stream",
          "name": "stdout",
          "text": [
            "Epoch 9/10, Loss: 0.5987\n"
          ]
        },
        {
          "output_type": "stream",
          "name": "stderr",
          "text": [
            "100%|██████████| 600/600 [06:50<00:00,  1.46it/s]\n"
          ]
        },
        {
          "output_type": "stream",
          "name": "stdout",
          "text": [
            "Epoch 10/10, Loss: 0.6005\n",
            "✅ Saved model to /content/drive/MyDrive/prostate_project/models/model_epoch_10.pth\n"
          ]
        }
      ]
    },
    {
      "cell_type": "code",
      "source": [
        "model.eval()\n",
        "y_true, y_pred, y_prob = [], [], []\n",
        "\n",
        "with torch.no_grad():\n",
        "    for images, labels in test_loader:\n",
        "        images = images.to(device)\n",
        "        outputs = torch.sigmoid(model(images)).cpu().squeeze()\n",
        "        y_prob.extend(outputs.numpy())\n",
        "        preds = np.round(outputs.numpy())\n",
        "        y_true.extend(labels.numpy())\n",
        "        y_pred.extend(preds)\n",
        "\n",
        "auc = roc_auc_score(y_true, y_prob)\n",
        "accuracy = accuracy_score(y_true, y_pred)\n",
        "cm = confusion_matrix(y_true, y_pred)\n",
        "\n",
        "print(f\"AUC: {auc:.4f}, Accuracy: {accuracy:.4f}\")\n",
        "print(\"Confusion Matrix:\")\n",
        "print(cm)\n",
        "\n",
        "# Plot confusion matrix\n",
        "disp = ConfusionMatrixDisplay(confusion_matrix=cm, display_labels=[\"No csPCa\", \"csPCa\"])\n",
        "disp.plot(cmap=plt.cm.Blues)\n",
        "plt.title(\"Confusion Matrix\")\n",
        "plt.show()\n"
      ],
      "metadata": {
        "id": "cmGFri5OLOr_",
        "colab": {
          "base_uri": "https://localhost:8080/",
          "height": 543
        },
        "outputId": "0d6e1446-b933-4298-fbcd-65986931ecc3"
      },
      "execution_count": null,
      "outputs": [
        {
          "output_type": "stream",
          "name": "stdout",
          "text": [
            "AUC: 0.5000, Accuracy: 0.7167\n",
            "Confusion Matrix:\n",
            "[[215   0]\n",
            " [ 85   0]]\n"
          ]
        },
        {
          "output_type": "display_data",
          "data": {
            "text/plain": [
              "<Figure size 640x480 with 2 Axes>"
            ],
            "image/png": "[encoded data removed]"
          },
          "metadata": {}
        }
      ]
    }
  ]
}